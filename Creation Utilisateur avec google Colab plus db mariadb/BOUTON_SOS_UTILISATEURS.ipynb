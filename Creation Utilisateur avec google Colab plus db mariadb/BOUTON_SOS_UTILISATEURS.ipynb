{
  "nbformat": 4,
  "nbformat_minor": 0,
  "metadata": {
    "colab": {
      "provenance": []
    },
    "kernelspec": {
      "name": "python3",
      "display_name": "Python 3"
    },
    "language_info": {
      "name": "python"
    }
  },
  "cells": [
    {
      "cell_type": "code",
      "execution_count": 1,
      "metadata": {
        "id": "f73A32CV4GYr",
        "colab": {
          "base_uri": "https://localhost:8080/"
        },
        "outputId": "9e10c5a1-b0ba-439a-b7f9-c4fd46beb8b0"
      },
      "outputs": [
        {
          "output_type": "stream",
          "name": "stdout",
          "text": [
            "Collecting mysql-connector-python\n",
            "  Downloading mysql_connector_python-8.3.0-cp310-cp310-manylinux_2_17_x86_64.whl (21.5 MB)\n",
            "\u001b[2K     \u001b[90m━━━━━━━━━━━━━━━━━━━━━━━━━━━━━━━━━━━━━━━━\u001b[0m \u001b[32m21.5/21.5 MB\u001b[0m \u001b[31m25.8 MB/s\u001b[0m eta \u001b[36m0:00:00\u001b[0m\n",
            "\u001b[?25hInstalling collected packages: mysql-connector-python\n",
            "Successfully installed mysql-connector-python-8.3.0\n"
          ]
        }
      ],
      "source": [
        "!pip install mysql-connector-python"
      ]
    },
    {
      "cell_type": "code",
      "source": [
        "import mysql.connector"
      ],
      "metadata": {
        "id": "fmfkxGfV5Lt8"
      },
      "execution_count": 2,
      "outputs": []
    },
    {
      "cell_type": "code",
      "source": [
        "connection_params = {\n",
        "    'host': \"bdd.lusardi.fr\",\n",
        "    'user': \"subina\",\n",
        "    'password': \"Boutonsos287*\",\n",
        "    'database': \"hearandknow\",\n",
        "}\n",
        "\n",
        "try:\n",
        "    # Connexion à la base de données\n",
        "    with mysql.connector.connect(**connection_params) as db:\n",
        "        # Réaliser des opérations sur la base de données\n",
        "        with db.cursor() as cursor:\n",
        "            # Exemple : exécution d'une requête SQL\n",
        "            cursor.execute(\"SELECT * FROM users\")\n",
        "            # Récupération des résultats\n",
        "            results = cursor.fetchall()\n",
        "            # Affichage des résultats\n",
        "            for row in results:\n",
        "                print(row)\n",
        "\n",
        "except mysql.connector.Error as err:\n",
        "    # Gestion des erreurs de connexion\n",
        "    print(f\"Erreur : {err}\")"
      ],
      "metadata": {
        "colab": {
          "base_uri": "https://localhost:8080/"
        },
        "id": "IRm0axWs4grR",
        "outputId": "01407e4a-c9d8-44ac-a70f-c270286a3373"
      },
      "execution_count": 3,
      "outputs": [
        {
          "output_type": "stream",
          "name": "stdout",
          "text": [
            "(1, 'Brigitte', 'Macron', 'hk@gmail.com', 'hk', 'FU3T23IgiAkIQ1489xFab4A4ibQRblh7S0OsqPLexY2cXTcFgi')\n"
          ]
        }
      ]
    },
    {
      "cell_type": "code",
      "source": [
        "# Fonction pour ajouter un nouvel utilisateur à la base de données\n",
        "def ajouter_utilisateur():\n",
        "    nom = input(\"Entrez le nom de l'utilisateur : \")\n",
        "    prenom = input(\"Entrez le prénom de l'utilisateur : \")\n",
        "    email = input(\"Entrez l'adresse email de l'utilisateur : \")\n",
        "    password = input(\"Entrez le mot de passe de l'utilisateur : \")\n",
        "    id_bouton = input(\"Entrez l'identifiant du bouton associé à l'utilisateur : \")\n",
        "\n",
        "    try:\n",
        "        # Connexion à la base de données\n",
        "        with mysql.connector.connect(**connection_params) as db:\n",
        "            cursor = db.cursor()\n",
        "            # Requête SQL pour insérer un nouvel utilisateur\n",
        "            sql = \"INSERT INTO users (firstname, lastname, email, password, id_bouton) VALUES (%s, %s, %s, %s, %s)\"\n",
        "            values = (nom, prenom, email, password, id_bouton)\n",
        "            # Exécution de la requête SQL\n",
        "            cursor.execute(sql, values)\n",
        "            db.commit()\n",
        "            print(\"Utilisateur ajouté avec succès.\")\n",
        "    except mysql.connector.Error as err:\n",
        "        print(f\"Erreur lors de l'ajout de l'utilisateur : {err}\")"
      ],
      "metadata": {
        "id": "YLhDDMD85DTv"
      },
      "execution_count": 4,
      "outputs": []
    },
    {
      "cell_type": "code",
      "source": [
        "ajouter_utilisateur()"
      ],
      "metadata": {
        "colab": {
          "base_uri": "https://localhost:8080/"
        },
        "id": "iJnbk_kH-ZxZ",
        "outputId": "785cb946-3625-4f24-8a65-286461882030"
      },
      "execution_count": 6,
      "outputs": [
        {
          "output_type": "stream",
          "name": "stdout",
          "text": [
            "Entrez le nom de l'utilisateur : Subina\n",
            "Entrez le prénom de l'utilisateur : Suthan\n",
            "Entrez l'adresse email de l'utilisateur : subina.suthan@gmail.com\n",
            "Entrez le mot de passe de l'utilisateur : subina\n",
            "Entrez l'identifiant du bouton associé à l'utilisateur : 1906\n",
            "Utilisateur ajouté avec succès.\n"
          ]
        }
      ]
    },
    {
      "cell_type": "code",
      "source": [
        "def ajouter_contact_urgence():\n",
        "    nom_contact = input(\"Entrez le nom du contact d'urgence : \")\n",
        "    prenom_contact = input(\"Entrez le prénom du contact d'urgence : \")\n",
        "    numero_contact = input(\"Entrez le numéro de téléphone du contact d'urgence : \")\n",
        "    id_telegram = input(\"Entrez l'identifiant Telegram associé au contact d'urgence : \")\n",
        "    utilisateur_id = input(\"Entrez l'identifiant de l'utilisateur associé au contact d'urgence : \")\n",
        "\n",
        "    try:\n",
        "        # Connexion à la base de données\n",
        "        with mysql.connector.connect(**connection_params) as db:\n",
        "            cursor = db.cursor()\n",
        "            # Requête SQL pour insérer un nouveau contact d'urgence\n",
        "            sql = \"INSERT INTO contacts_urgence (utilisateur_id, nom_contact, prenom_contact, numero_contact, id_telegram) VALUES (%s, %s, %s, %s, %s)\"\n",
        "            values = (utilisateur_id, nom_contact, prenom_contact, numero_contact, id_telegram)\n",
        "            # Exécution de la requête SQL\n",
        "            cursor.execute(sql, values)\n",
        "            db.commit()\n",
        "            print(\"Contact d'urgence ajouté avec succès.\")\n",
        "    except mysql.connector.Error as err:\n",
        "        print(f\"Erreur lors de l'ajout du contact d'urgence : {err}\")\n"
      ],
      "metadata": {
        "id": "02IHpBLL-mag"
      },
      "execution_count": 8,
      "outputs": []
    },
    {
      "cell_type": "code",
      "source": [
        "ajouter_contact_urgence()"
      ],
      "metadata": {
        "colab": {
          "base_uri": "https://localhost:8080/"
        },
        "id": "OzEVfYyJ-0tk",
        "outputId": "3ae4794e-eb87-4b23-abd5-159f8af6ebcc"
      },
      "execution_count": 12,
      "outputs": [
        {
          "output_type": "stream",
          "name": "stdout",
          "text": [
            "Entrez le nom du contact d'urgence : Viijithan\n",
            "Entrez le prénom du contact d'urgence : Suthan\n",
            "Entrez le numéro de téléphone du contact d'urgence : 00000000\n",
            "Entrez l'identifiant Telegram associé au contact d'urgence : 6762292810\n",
            "Entrez l'identifiant de l'utilisateur associé au contact d'urgence : 3\n",
            "Contact d'urgence ajouté avec succès.\n"
          ]
        }
      ]
    }
  ]
}